{
  "cells": [
    {
      "cell_type": "code",
      "execution_count": null,
      "metadata": {
        "colab": {
          "base_uri": "https://localhost:8080/"
        },
        "id": "vNzOBFByB005",
        "outputId": "b3389d09-5d18-46e7-9bfd-7acb2d4873a8"
      },
      "outputs": [
        {
          "ename": "",
          "evalue": "",
          "output_type": "error",
          "traceback": [
            "\u001b[1;31mRunning cells with '/opt/homebrew/bin/python3' requires the ipykernel package.\n",
            "\u001b[1;31mRun the following command to install 'ipykernel' into the Python environment. \n",
            "\u001b[1;31mCommand: '/opt/homebrew/bin/python3 -m pip install ipykernel -U --user --force-reinstall'"
          ]
        }
      ],
      "source": [
        "# Our team decided to use the Spotify dataset.\n",
        "# The question our group will be exploring is \"can we predict a song's popularity using its musical features?\"\n",
        "# The main features we will be using will be track_id, popularity, explicit, danceability, energy, loudness, liveness, tempo, and track_genre.\n",
        "import pandas as pd\n",
        "\n",
        "df = pd.read_csv(\"hf://datasets/maharshipandya/spotify-tracks-dataset/dataset.csv\")\n",
        "\n",
        "# Check for missing values\n",
        "print(\"Missing values before cleaning:\\n\", df.isnull().sum())\n",
        "\n",
        "# Drop rows where critical features like track_id or track_name are missing\n",
        "df_cleaned = df.dropna(subset=['track_id', 'track_name'])\n",
        "\n",
        "# Fill missing numerical values with mean or median\n",
        "df_cleaned.loc[:, 'popularity'] = df_cleaned['popularity'].fillna(df_cleaned['popularity'].mean())\n",
        "df_cleaned.loc[:, 'danceability'] = df_cleaned['danceability'].fillna(df_cleaned['danceability'].median())\n",
        "df_cleaned.loc[:, 'energy'] = df_cleaned['energy'].fillna(df_cleaned['energy'].mean())\n",
        "df_cleaned.loc[:, 'loudness'] = df_cleaned['loudness'].fillna(df_cleaned['loudness'].median())\n",
        "df_cleaned.loc[:, 'liveness'] = df_cleaned['liveness'].fillna(df_cleaned['liveness'].mean())\n",
        "df_cleaned.loc[:, 'tempo'] = df_cleaned['tempo'].fillna(df_cleaned['tempo'].mean())\n",
        "\n",
        "# Fill missing categorical values with the most common value (mode)\n",
        "df_cleaned.loc[:, 'track_genre'] = df_cleaned['track_genre'].fillna(df_cleaned['track_genre'].mode()[0])\n",
        "df_cleaned.loc[:, 'explicit'] = df_cleaned['explicit'].fillna(df_cleaned['explicit'].mode()[0])\n",
        "\n",
        "# Verify no more missing values\n",
        "print(\"Missing values after cleaning:\\n\", df_cleaned.isnull().sum())\n"
      ]
    },
    {
      "cell_type": "code",
      "execution_count": null,
      "metadata": {
        "colab": {
          "base_uri": "https://localhost:8080/"
        },
        "id": "4U0v65JTpjKn",
        "outputId": "861216e7-0956-433b-9c6f-7d50bb13ef5b"
      },
      "outputs": [],
      "source": [
        "#more data cleaning\n",
        "# CHECK FOR OUTLIERS\n",
        "Q1 = df_cleaned['popularity'].quantile(0.25)\n",
        "Q3 = df_cleaned['popularity'].quantile(0.75)\n",
        "IQR = Q3 - Q1\n",
        "\n",
        "outliers = df_cleaned[(df_cleaned['popularity'] < (Q1 - 1.5 * IQR)) | (df_cleaned['popularity'] > (Q3 + 1.5 * IQR))]\n",
        "print(outliers)\n",
        "print(\"Number of outliers in popularity:\", outliers.shape[0])\n",
        "\n",
        "# CHECK FOR DATA VALUES THAT ARE OUTSIDE OF THE POSSIBLE RANGE\n",
        "\n",
        "# CHECK FOR DUPLICATES\n",
        "\n",
        "# duplicates = df_cleaned[df_cleaned.duplicated()]\n",
        "# print(\"Number of duplicate rows:\", duplicates.shape[0])\n",
        "# df_cleaned = df_cleaned.drop_duplicates()\n",
        "\n",
        "# Remove duplicates based on the track_id column\n",
        "df_cleaned = df_cleaned.drop_duplicates(subset=['track_name'])\n",
        "\n",
        "# Verify that duplicates have been removed\n",
        "print(\"Number of duplicate track_name entries:\", df_cleaned.duplicated(subset=['track_name']).sum())\n"
      ]
    },
    {
      "cell_type": "code",
      "execution_count": null,
      "metadata": {
        "colab": {
          "base_uri": "https://localhost:8080/",
          "height": 320
        },
        "id": "be_RQQKaK7AA",
        "outputId": "3c8d62b9-32c8-4305-c98f-2f8e4e1b3e97"
      },
      "outputs": [],
      "source": [
        "df_cleaned.select_dtypes('number').describe()"
      ]
    },
    {
      "cell_type": "code",
      "execution_count": null,
      "metadata": {
        "colab": {
          "base_uri": "https://localhost:8080/",
          "height": 564
        },
        "id": "aXDC-swSNGpc",
        "outputId": "75784fc2-c4ea-4e9e-e05e-c8a57b8c3158"
      },
      "outputs": [],
      "source": [
        "# 1. Distribution of Popularity\n",
        "plt.figure(figsize=(10, 6))\n",
        "sns.histplot(df_cleaned['popularity'], bins=20, kde=True)\n",
        "plt.title('Distribution of Song Popularity')\n",
        "plt.xlabel('Popularity')\n",
        "plt.ylabel('Frequency')\n",
        "plt.show()\n",
        "\n"
      ]
    },
    {
      "cell_type": "code",
      "execution_count": null,
      "metadata": {
        "colab": {
          "base_uri": "https://localhost:8080/",
          "height": 699
        },
        "id": "yMmUs1wrNMLi",
        "outputId": "9d03325a-b761-4329-fe09-56995d2ce1ca"
      },
      "outputs": [],
      "source": [
        "# 2. Correlation heatmap to examine relationships between numerical features and popularity\n",
        "plt.figure(figsize=(10, 8))\n",
        "correlation_matrix = df_cleaned[['popularity', 'danceability', 'energy', 'loudness', 'liveness', 'tempo']].corr()\n",
        "sns.heatmap(correlation_matrix, annot=True, cmap='coolwarm', linewidths=0.5)\n",
        "plt.title('Correlation Heatmap: Features vs Popularity')\n",
        "plt.show()"
      ]
    },
    {
      "cell_type": "code",
      "execution_count": null,
      "metadata": {
        "colab": {
          "base_uri": "https://localhost:8080/",
          "height": 1000
        },
        "id": "FJzpCDcCPU3Z",
        "outputId": "bd2659b6-dd5f-4172-c57c-f8ee5e1e08c6"
      },
      "outputs": [],
      "source": [
        "import seaborn as sns\n",
        "import matplotlib.pyplot as plt\n",
        "import pandas as pd\n",
        "\n",
        "# Group by track_genre and calculate the average popularity\n",
        "df_genre_popularity = df_cleaned.groupby('track_genre')['popularity'].mean().reset_index()\n",
        "\n",
        "# Sort the genres by the average popularity in descending order\n",
        "df_genre_popularity = df_genre_popularity.sort_values(by='popularity', ascending=False)\n",
        "\n",
        "# Set the figure size for better readability\n",
        "plt.figure(figsize=(12, 20))\n",
        "\n",
        "# Create a bar plot to show the relationship between track_genre and average popularity\n",
        "sns.barplot(x='popularity', y='track_genre', data=df_genre_popularity)\n",
        "\n",
        "# Add a title and labels\n",
        "plt.title('Bar Plot of Track Genre vs Average Popularity')\n",
        "plt.xlabel('Average Popularity')\n",
        "plt.ylabel('Track Genre')\n",
        "\n",
        "# Show the plot\n",
        "plt.show()\n"
      ]
    }
  ],
  "metadata": {
    "colab": {
      "provenance": []
    },
    "kernelspec": {
      "display_name": "Python 3",
      "language": "python",
      "name": "python3"
    },
    "language_info": {
      "name": "python",
      "version": "3.13.0"
    },
    "vscode": {
      "interpreter": {
        "hash": "b0fa6594d8f4cbf19f97940f81e996739fb7646882a419484c72d19e05852a7e"
      }
    }
  },
  "nbformat": 4,
  "nbformat_minor": 0
}
